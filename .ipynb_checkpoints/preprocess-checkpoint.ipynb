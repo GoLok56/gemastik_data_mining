{
 "cells": [
  {
   "cell_type": "code",
   "execution_count": 34,
   "metadata": {},
   "outputs": [],
   "source": [
    "from preprocess import Preprocess\n",
    "from stemmer import Stemmer\n",
    "from tokenizer import Tokenizer\n",
    "\n",
    "from sklearn.preprocessing import OneHotEncoder, LabelEncoder\n",
    "\n",
    "from keras.models import Sequential\n",
    "from keras.layers import Dense,  Flatten, Embedding, Dropout\n",
    "from keras.preprocessing.text import Tokenizer as KTokenizer\n",
    "from keras.preprocessing.sequence import pad_sequences\n",
    "\n",
    "import pandas as pd\n",
    "import numpy as np"
   ]
  },
  {
   "cell_type": "code",
   "execution_count": 2,
   "metadata": {},
   "outputs": [],
   "source": [
    "DATASET_FILE = 'dataset.xlsx'\n",
    "STOPWORDS = 'stopwords.txt'\n",
    "SLANG_WORDS = 'slang_words.txt'"
   ]
  },
  {
   "cell_type": "code",
   "execution_count": 10,
   "metadata": {},
   "outputs": [
    {
     "data": {
      "text/html": [
       "<div>\n",
       "<style scoped>\n",
       "    .dataframe tbody tr th:only-of-type {\n",
       "        vertical-align: middle;\n",
       "    }\n",
       "\n",
       "    .dataframe tbody tr th {\n",
       "        vertical-align: top;\n",
       "    }\n",
       "\n",
       "    .dataframe thead th {\n",
       "        text-align: right;\n",
       "    }\n",
       "</style>\n",
       "<table border=\"1\" class=\"dataframe\">\n",
       "  <thead>\n",
       "    <tr style=\"text-align: right;\">\n",
       "      <th></th>\n",
       "      <th>Unnamed: 0.1</th>\n",
       "      <th>klasifikasi</th>\n",
       "      <th>sentiment</th>\n",
       "      <th>text</th>\n",
       "      <th>tokens</th>\n",
       "    </tr>\n",
       "  </thead>\n",
       "  <tbody>\n",
       "    <tr>\n",
       "      <th>0</th>\n",
       "      <td>0</td>\n",
       "      <td>Bukan Sara</td>\n",
       "      <td>Negatif</td>\n",
       "      <td>rt pei hutan luas aceh dape</td>\n",
       "      <td>['rt', 'pei', 'hutan', 'luas', 'aceh', 'dape']</td>\n",
       "    </tr>\n",
       "    <tr>\n",
       "      <th>1</th>\n",
       "      <td>1</td>\n",
       "      <td>Bukan Sara</td>\n",
       "      <td>Netral</td>\n",
       "      <td>timeline penuh retweet trending topic kena sua...</td>\n",
       "      <td>['timeline', 'penuh', 'retweet', 'trending', '...</td>\n",
       "    </tr>\n",
       "    <tr>\n",
       "      <th>2</th>\n",
       "      <td>2</td>\n",
       "      <td>Bukan Sara</td>\n",
       "      <td>Negatif</td>\n",
       "      <td>rt hao bangun buta sby makmur lupa jokowi seng...</td>\n",
       "      <td>['rt', 'hao', 'bangun', 'buta', 'sby', 'makmur...</td>\n",
       "    </tr>\n",
       "    <tr>\n",
       "      <th>3</th>\n",
       "      <td>3</td>\n",
       "      <td>Bukan Sara</td>\n",
       "      <td>Netral</td>\n",
       "      <td>rt gubernur jabar ridwan kamil istri jeda laga...</td>\n",
       "      <td>['rt', 'gubernur', 'jabar', 'ridwan', 'kamil',...</td>\n",
       "    </tr>\n",
       "    <tr>\n",
       "      <th>4</th>\n",
       "      <td>4</td>\n",
       "      <td>Bukan Sara</td>\n",
       "      <td>Negatif</td>\n",
       "      <td>rt kecewa prabowo nyata baik serang serang pra...</td>\n",
       "      <td>['rt', 'kecewa', 'prabowo', 'nyata', 'baik', '...</td>\n",
       "    </tr>\n",
       "  </tbody>\n",
       "</table>\n",
       "</div>"
      ],
      "text/plain": [
       "   Unnamed: 0.1 klasifikasi sentiment  \\\n",
       "0             0  Bukan Sara   Negatif   \n",
       "1             1  Bukan Sara    Netral   \n",
       "2             2  Bukan Sara   Negatif   \n",
       "3             3  Bukan Sara    Netral   \n",
       "4             4  Bukan Sara   Negatif   \n",
       "\n",
       "                                                text  \\\n",
       "0                        rt pei hutan luas aceh dape   \n",
       "1  timeline penuh retweet trending topic kena sua...   \n",
       "2  rt hao bangun buta sby makmur lupa jokowi seng...   \n",
       "3  rt gubernur jabar ridwan kamil istri jeda laga...   \n",
       "4  rt kecewa prabowo nyata baik serang serang pra...   \n",
       "\n",
       "                                              tokens  \n",
       "0     ['rt', 'pei', 'hutan', 'luas', 'aceh', 'dape']  \n",
       "1  ['timeline', 'penuh', 'retweet', 'trending', '...  \n",
       "2  ['rt', 'hao', 'bangun', 'buta', 'sby', 'makmur...  \n",
       "3  ['rt', 'gubernur', 'jabar', 'ridwan', 'kamil',...  \n",
       "4  ['rt', 'kecewa', 'prabowo', 'nyata', 'baik', '...  "
      ]
     },
     "execution_count": 10,
     "metadata": {},
     "output_type": "execute_result"
    }
   ],
   "source": [
    "training_df = pd.read_excel(DATASET_FILE)\n",
    "training_df = training_df.drop(['Unnamed: 0'], axis=1)\n",
    "training_df.head()"
   ]
  },
  {
   "cell_type": "code",
   "execution_count": 11,
   "metadata": {},
   "outputs": [
    {
     "data": {
      "text/html": [
       "<div>\n",
       "<style scoped>\n",
       "    .dataframe tbody tr th:only-of-type {\n",
       "        vertical-align: middle;\n",
       "    }\n",
       "\n",
       "    .dataframe tbody tr th {\n",
       "        vertical-align: top;\n",
       "    }\n",
       "\n",
       "    .dataframe thead th {\n",
       "        text-align: right;\n",
       "    }\n",
       "</style>\n",
       "<table border=\"1\" class=\"dataframe\">\n",
       "  <thead>\n",
       "    <tr style=\"text-align: right;\">\n",
       "      <th></th>\n",
       "      <th>Unnamed: 0.1</th>\n",
       "    </tr>\n",
       "  </thead>\n",
       "  <tbody>\n",
       "    <tr>\n",
       "      <th>count</th>\n",
       "      <td>853.000000</td>\n",
       "    </tr>\n",
       "    <tr>\n",
       "      <th>mean</th>\n",
       "      <td>444.606096</td>\n",
       "    </tr>\n",
       "    <tr>\n",
       "      <th>std</th>\n",
       "      <td>259.932624</td>\n",
       "    </tr>\n",
       "    <tr>\n",
       "      <th>min</th>\n",
       "      <td>0.000000</td>\n",
       "    </tr>\n",
       "    <tr>\n",
       "      <th>25%</th>\n",
       "      <td>217.000000</td>\n",
       "    </tr>\n",
       "    <tr>\n",
       "      <th>50%</th>\n",
       "      <td>441.000000</td>\n",
       "    </tr>\n",
       "    <tr>\n",
       "      <th>75%</th>\n",
       "      <td>670.000000</td>\n",
       "    </tr>\n",
       "    <tr>\n",
       "      <th>max</th>\n",
       "      <td>895.000000</td>\n",
       "    </tr>\n",
       "  </tbody>\n",
       "</table>\n",
       "</div>"
      ],
      "text/plain": [
       "       Unnamed: 0.1\n",
       "count    853.000000\n",
       "mean     444.606096\n",
       "std      259.932624\n",
       "min        0.000000\n",
       "25%      217.000000\n",
       "50%      441.000000\n",
       "75%      670.000000\n",
       "max      895.000000"
      ]
     },
     "execution_count": 11,
     "metadata": {},
     "output_type": "execute_result"
    }
   ],
   "source": [
    "training_df.describe()"
   ]
  },
  {
   "cell_type": "code",
   "execution_count": 14,
   "metadata": {},
   "outputs": [
    {
     "data": {
      "text/plain": [
       "Bukan Sara    668\n",
       "Sara          185\n",
       "Name: klasifikasi, dtype: int64"
      ]
     },
     "execution_count": 14,
     "metadata": {},
     "output_type": "execute_result"
    },
    {
     "data": {
      "image/png": "[encoded data removed]",
      "text/plain": [
       "<Figure size 432x288 with 1 Axes>"
      ]
     },
     "metadata": {
      "needs_background": "light"
     },
     "output_type": "display_data"
    }
   ],
   "source": [
    "training_df['klasifikasi'].value_counts().plot(kind='barh')\n",
    "training_df['klasifikasi'].value_counts()"
   ]
  },
  {
   "cell_type": "code",
   "execution_count": 13,
   "metadata": {},
   "outputs": [
    {
     "data": {
      "text/plain": [
       "Negatif    352\n",
       "Netral     302\n",
       "Positif    199\n",
       "Name: sentiment, dtype: int64"
      ]
     },
     "execution_count": 13,
     "metadata": {},
     "output_type": "execute_result"
    },
    {
     "data": {
      "image/png": "[encoded data removed]",
      "text/plain": [
       "<Figure size 432x288 with 1 Axes>"
      ]
     },
     "metadata": {
      "needs_background": "light"
     },
     "output_type": "display_data"
    }
   ],
   "source": [
    "training_df['sentiment'].value_counts().plot(kind='barh')\n",
    "training_df['sentiment'].value_counts()"
   ]
  },
  {
   "cell_type": "code",
   "execution_count": 87,
   "metadata": {},
   "outputs": [
    {
     "data": {
      "text/plain": [
       "Negatif    209\n",
       "Netral     162\n",
       "Positif    129\n",
       "Name: sentiment, dtype: int64"
      ]
     },
     "execution_count": 87,
     "metadata": {},
     "output_type": "execute_result"
    },
    {
     "data": {
      "image/png": "[encoded data removed]",
      "text/plain": [
       "<Figure size 432x288 with 1 Axes>"
      ]
     },
     "metadata": {
      "needs_background": "light"
     },
     "output_type": "display_data"
    }
   ],
   "source": [
    "sara = training_df[training_df['klasifikasi'] == 'Sara']\n",
    "bukan_sara = training_df[training_df['klasifikasi'] == 'Bukan Sara']\n",
    "\n",
    "sara_train = sara[:100]\n",
    "sara_test = sara[100:]\n",
    "\n",
    "bukan_sara_train = bukan_sara[:400]\n",
    "bukan_sara_test = bukan_sara[400:]\n",
    "\n",
    "train = pd.concat([sara_train, bukan_sara_train], axis=0)\n",
    "test = pd.concat([sara_test, bukan_sara_test], axis=0)\n",
    "\n",
    "x_train = train['text'].tolist()\n",
    "klasifikasi_train = train['klasifikasi'].tolist()\n",
    "sentiment_train = train['sentiment'].tolist()\n",
    "\n",
    "x_test = test['text'].tolist()\n",
    "klasifikasi_test = test['klasifikasi'].tolist()\n",
    "sentiment_test = test['sentiment'].tolist()\n",
    "\n",
    "train['sentiment'].value_counts().plot(kind='barh')\n",
    "train['sentiment'].value_counts()"
   ]
  },
  {
   "cell_type": "code",
   "execution_count": 88,
   "metadata": {},
   "outputs": [
    {
     "name": "stderr",
     "output_type": "stream",
     "text": [
      "C:\\Users\\GoLok\\Anaconda3\\envs\\kp\\lib\\site-packages\\sklearn\\preprocessing\\_encoders.py:415: FutureWarning: The handling of integer data will change in version 0.22. Currently, the categories are determined based on the range [0, max(values)], while in the future they will be determined based on the unique values.\n",
      "If you want the future behaviour and silence this warning, you can specify \"categories='auto'\".\n",
      "In case you used a LabelEncoder before this OneHotEncoder to convert the categories to integers, then you can now use the OneHotEncoder directly.\n",
      "  warnings.warn(msg, FutureWarning)\n",
      "C:\\Users\\GoLok\\Anaconda3\\envs\\kp\\lib\\site-packages\\sklearn\\preprocessing\\_encoders.py:415: FutureWarning: The handling of integer data will change in version 0.22. Currently, the categories are determined based on the range [0, max(values)], while in the future they will be determined based on the unique values.\n",
      "If you want the future behaviour and silence this warning, you can specify \"categories='auto'\".\n",
      "In case you used a LabelEncoder before this OneHotEncoder to convert the categories to integers, then you can now use the OneHotEncoder directly.\n",
      "  warnings.warn(msg, FutureWarning)\n"
     ]
    }
   ],
   "source": [
    "ktokenizer = KTokenizer()\n",
    "ktokenizer.fit_on_texts(x_train)\n",
    "x_train_tokenizer = ktokenizer.texts_to_sequences(x_train)\n",
    "x_test_tokenizer = ktokenizer.texts_to_sequences(x_test)\n",
    "\n",
    "vocab_size = len(ktokenizer.word_index) + 1\n",
    "maxlen = 16\n",
    "embedding_dim = 10\n",
    "\n",
    "klasifikasi_label_encoder = LabelEncoder()\n",
    "klasifikasi_label_encoded = klasifikasi_label_encoder.fit_transform(klasifikasi_train)\n",
    "klasifikasi_label_encoded = klasifikasi_label_encoded.reshape(len(klasifikasi_label_encoded), 1)\n",
    "klasifikasi_test_label_encoded = klasifikasi_label_encoder.transform(klasifikasi_test)\n",
    "klasifikasi_test_label_encoded = klasifikasi_test_label_encoded.reshape(len(klasifikasi_test_label_encoded), 1)\n",
    "\n",
    "klasifikasi_one_hot_encoder = OneHotEncoder()\n",
    "klasifikasi_train_one_hot = klasifikasi_one_hot_encoder.fit_transform(klasifikasi_label_encoded)\n",
    "klasifikasi_test_one_hot = klasifikasi_one_hot_encoder.transform(klasifikasi_test_label_encoded)\n",
    "\n",
    "sentiment_label_encoder = LabelEncoder()\n",
    "sentiment_label_encoded = sentiment_label_encoder.fit_transform(sentiment_train)\n",
    "sentiment_label_encoded = sentiment_label_encoded.reshape(len(sentiment_label_encoded), 1)\n",
    "sentiment_test_label_encoded = sentiment_label_encoder.transform(sentiment_test)\n",
    "sentiment_test_label_encoded = sentiment_test_label_encoded.reshape(len(sentiment_test_label_encoded), 1)\n",
    "\n",
    "sentiment_one_hot_encoder = OneHotEncoder()\n",
    "sentiment_train_one_hot = sentiment_one_hot_encoder.fit_transform(sentiment_label_encoded)\n",
    "sentiment_test_one_hot = sentiment_one_hot_encoder.transform(sentiment_test_label_encoded)\n",
    "\n",
    "x_train_ktokenizer = pad_sequences(x_train_tokenizer, padding='post', maxlen=maxlen)\n",
    "x_test_ktokenizer = pad_sequences(x_test_tokenizer, padding='post', maxlen=maxlen)\n",
    "test_num = len(x_test)"
   ]
  },
  {
   "cell_type": "code",
   "execution_count": 89,
   "metadata": {},
   "outputs": [
    {
     "name": "stdout",
     "output_type": "stream",
     "text": [
      "_________________________________________________________________\n",
      "Layer (type)                 Output Shape              Param #   \n",
      "=================================================================\n",
      "embedding_29 (Embedding)     (None, 16, 10)            14120     \n",
      "_________________________________________________________________\n",
      "flatten_29 (Flatten)         (None, 160)               0         \n",
      "_________________________________________________________________\n",
      "dense_59 (Dense)             (None, 5)                 805       \n",
      "_________________________________________________________________\n",
      "dropout_30 (Dropout)         (None, 5)                 0         \n",
      "_________________________________________________________________\n",
      "dense_60 (Dense)             (None, 2)                 12        \n",
      "=================================================================\n",
      "Total params: 14,937\n",
      "Trainable params: 14,937\n",
      "Non-trainable params: 0\n",
      "_________________________________________________________________\n",
      "Epoch 1/50\n",
      "500/500 [==============================] - 8s 15ms/step - loss: 0.6868 - acc: 0.6900\n",
      "Epoch 2/50\n",
      "500/500 [==============================] - 0s 730us/step - loss: 0.6623 - acc: 0.8060\n",
      "Epoch 3/50\n",
      "500/500 [==============================] - 0s 340us/step - loss: 0.6354 - acc: 0.8040\n",
      "Epoch 4/50\n",
      "500/500 [==============================] - 0s 375us/step - loss: 0.6026 - acc: 0.8060\n",
      "Epoch 5/50\n",
      "500/500 [==============================] - 0s 452us/step - loss: 0.5710 - acc: 0.8040\n",
      "Epoch 6/50\n",
      "500/500 [==============================] - 0s 308us/step - loss: 0.5342 - acc: 0.8040\n",
      "Epoch 7/50\n",
      "500/500 [==============================] - 0s 612us/step - loss: 0.5241 - acc: 0.8080\n",
      "Epoch 8/50\n",
      "500/500 [==============================] - 0s 572us/step - loss: 0.5302 - acc: 0.8020\n",
      "Epoch 9/50\n",
      "500/500 [==============================] - 0s 438us/step - loss: 0.4712 - acc: 0.8060\n",
      "Epoch 10/50\n",
      "500/500 [==============================] - 0s 492us/step - loss: 0.4741 - acc: 0.8200\n",
      "Epoch 11/50\n",
      "500/500 [==============================] - 0s 458us/step - loss: 0.4708 - acc: 0.8000\n",
      "Epoch 12/50\n",
      "500/500 [==============================] - 0s 646us/step - loss: 0.4611 - acc: 0.8180\n",
      "Epoch 13/50\n",
      "500/500 [==============================] - 0s 398us/step - loss: 0.4485 - acc: 0.8280\n",
      "Epoch 14/50\n",
      "500/500 [==============================] - 0s 458us/step - loss: 0.4136 - acc: 0.8480\n",
      "Epoch 15/50\n",
      "500/500 [==============================] - 0s 522us/step - loss: 0.4015 - acc: 0.8520\n",
      "Epoch 16/50\n",
      "500/500 [==============================] - 0s 466us/step - loss: 0.3801 - acc: 0.8680\n",
      "Epoch 17/50\n",
      "500/500 [==============================] - 0s 628us/step - loss: 0.3386 - acc: 0.8700\n",
      "Epoch 18/50\n",
      "500/500 [==============================] - 0s 402us/step - loss: 0.3316 - acc: 0.8800\n",
      "Epoch 19/50\n",
      "500/500 [==============================] - 0s 490us/step - loss: 0.2894 - acc: 0.8940\n",
      "Epoch 20/50\n",
      "500/500 [==============================] - 0s 404us/step - loss: 0.3030 - acc: 0.8820\n",
      "Epoch 21/50\n",
      "500/500 [==============================] - 0s 382us/step - loss: 0.2589 - acc: 0.8900\n",
      "Epoch 22/50\n",
      "500/500 [==============================] - 0s 580us/step - loss: 0.2569 - acc: 0.9100\n",
      "Epoch 23/50\n",
      "500/500 [==============================] - 0s 452us/step - loss: 0.2381 - acc: 0.9100\n",
      "Epoch 24/50\n",
      "500/500 [==============================] - 0s 596us/step - loss: 0.2310 - acc: 0.9240\n",
      "Epoch 25/50\n",
      "500/500 [==============================] - 0s 700us/step - loss: 0.2163 - acc: 0.9420\n",
      "Epoch 26/50\n",
      "500/500 [==============================] - 0s 680us/step - loss: 0.2229 - acc: 0.9120\n",
      "Epoch 27/50\n",
      "500/500 [==============================] - 0s 696us/step - loss: 0.2354 - acc: 0.9120\n",
      "Epoch 28/50\n",
      "500/500 [==============================] - 0s 722us/step - loss: 0.1936 - acc: 0.9300\n",
      "Epoch 29/50\n",
      "500/500 [==============================] - 1s 1ms/step - loss: 0.1931 - acc: 0.9340\n",
      "Epoch 30/50\n",
      "500/500 [==============================] - 0s 722us/step - loss: 0.1961 - acc: 0.9260\n",
      "Epoch 31/50\n",
      "500/500 [==============================] - 0s 661us/step - loss: 0.1771 - acc: 0.9380\n",
      "Epoch 32/50\n",
      "500/500 [==============================] - 1s 2ms/step - loss: 0.1863 - acc: 0.9240\n",
      "Epoch 33/50\n",
      "500/500 [==============================] - 0s 904us/step - loss: 0.1791 - acc: 0.9260\n",
      "Epoch 34/50\n",
      "500/500 [==============================] - 0s 442us/step - loss: 0.1836 - acc: 0.9260\n",
      "Epoch 35/50\n",
      "500/500 [==============================] - 0s 440us/step - loss: 0.1575 - acc: 0.9320\n",
      "Epoch 36/50\n",
      "500/500 [==============================] - 0s 670us/step - loss: 0.1617 - acc: 0.9240\n",
      "Epoch 37/50\n",
      "500/500 [==============================] - 0s 684us/step - loss: 0.1628 - acc: 0.9360\n",
      "Epoch 38/50\n",
      "500/500 [==============================] - 0s 584us/step - loss: 0.1648 - acc: 0.9300\n",
      "Epoch 39/50\n",
      "500/500 [==============================] - 0s 494us/step - loss: 0.1587 - acc: 0.9400\n",
      "Epoch 40/50\n",
      "500/500 [==============================] - 0s 526us/step - loss: 0.1539 - acc: 0.9420\n",
      "Epoch 41/50\n",
      "500/500 [==============================] - 0s 834us/step - loss: 0.1494 - acc: 0.9480\n",
      "Epoch 42/50\n",
      "500/500 [==============================] - 0s 652us/step - loss: 0.1416 - acc: 0.9420\n",
      "Epoch 43/50\n",
      "500/500 [==============================] - 0s 352us/step - loss: 0.1582 - acc: 0.9400\n",
      "Epoch 44/50\n",
      "500/500 [==============================] - 0s 700us/step - loss: 0.1403 - acc: 0.9500\n",
      "Epoch 45/50\n",
      "500/500 [==============================] - 0s 622us/step - loss: 0.1516 - acc: 0.9340\n",
      "Epoch 46/50\n",
      "500/500 [==============================] - 0s 790us/step - loss: 0.1495 - acc: 0.9360\n",
      "Epoch 47/50\n",
      "500/500 [==============================] - 0s 778us/step - loss: 0.1471 - acc: 0.9340\n",
      "Epoch 48/50\n",
      "500/500 [==============================] - 1s 1ms/step - loss: 0.1327 - acc: 0.9560\n",
      "Epoch 49/50\n",
      "500/500 [==============================] - 1s 1ms/step - loss: 0.1522 - acc: 0.9280\n",
      "Epoch 50/50\n",
      "500/500 [==============================] - 0s 808us/step - loss: 0.1569 - acc: 0.9180\n"
     ]
    },
    {
     "data": {
      "text/plain": [
       "<keras.callbacks.History at 0x2bcaef68b88>"
      ]
     },
     "execution_count": 89,
     "metadata": {},
     "output_type": "execute_result"
    }
   ],
   "source": [
    "klasifikasi_model = Sequential()\n",
    "klasifikasi_model.add(Embedding(input_dim=vocab_size, output_dim=embedding_dim, input_length=maxlen))\n",
    "klasifikasi_model.add(Flatten())\n",
    "klasifikasi_model.add(Dense(5, activation='relu'))\n",
    "# klasifikasi_model.add(Dropout(0.4))\n",
    "klasifikasi_model.add(Dense(2, activation='sigmoid'))\n",
    "\n",
    "klasifikasi_model.compile(loss='categorical_crossentropy', optimizer='adam', metrics=['accuracy'])\n",
    "klasifikasi_model.summary()\n",
    "klasifikasi_model.fit(x_train_ktokenizer, klasifikasi_train_one_hot, epochs=50)"
   ]
  },
  {
   "cell_type": "code",
   "execution_count": 90,
   "metadata": {},
   "outputs": [
    {
     "data": {
      "text/plain": [
       "0.7053824362606232"
      ]
     },
     "execution_count": 90,
     "metadata": {},
     "output_type": "execute_result"
    }
   ],
   "source": [
    "klasifikasi_pred = klasifikasi_model.predict(x_test_ktokenizer)\n",
    "acc = sum([np.argmax(klasifikasi_test_one_hot[i])==np.argmax(klasifikasi_pred[i]) for i in range(test_num)])/test_num\n",
    "acc"
   ]
  },
  {
   "cell_type": "code",
   "execution_count": 97,
   "metadata": {},
   "outputs": [
    {
     "name": "stdout",
     "output_type": "stream",
     "text": [
      "_________________________________________________________________\n",
      "Layer (type)                 Output Shape              Param #   \n",
      "=================================================================\n",
      "embedding_33 (Embedding)     (None, 16, 10)            14120     \n",
      "_________________________________________________________________\n",
      "flatten_33 (Flatten)         (None, 160)               0         \n",
      "_________________________________________________________________\n",
      "dense_67 (Dense)             (None, 5)                 805       \n",
      "_________________________________________________________________\n",
      "dropout_34 (Dropout)         (None, 5)                 0         \n",
      "_________________________________________________________________\n",
      "dense_68 (Dense)             (None, 3)                 18        \n",
      "=================================================================\n",
      "Total params: 14,943\n",
      "Trainable params: 14,943\n",
      "Non-trainable params: 0\n",
      "_________________________________________________________________\n",
      "Epoch 1/60\n",
      "500/500 [==============================] - 5s 9ms/step - loss: 1.0991 - acc: 0.3400\n",
      "Epoch 2/60\n",
      "500/500 [==============================] - 0s 490us/step - loss: 1.0943 - acc: 0.4380\n",
      "Epoch 3/60\n",
      "500/500 [==============================] - 0s 648us/step - loss: 1.0887 - acc: 0.4440\n",
      "Epoch 4/60\n",
      "500/500 [==============================] - 0s 610us/step - loss: 1.0832 - acc: 0.4320\n",
      "Epoch 5/60\n",
      "500/500 [==============================] - 0s 472us/step - loss: 1.0746 - acc: 0.4480\n",
      "Epoch 6/60\n",
      "500/500 [==============================] - 0s 412us/step - loss: 1.0618 - acc: 0.4620\n",
      "Epoch 7/60\n",
      "500/500 [==============================] - 0s 612us/step - loss: 1.0476 - acc: 0.4580\n",
      "Epoch 8/60\n",
      "500/500 [==============================] - 0s 572us/step - loss: 1.0307 - acc: 0.4620\n",
      "Epoch 9/60\n",
      "500/500 [==============================] - 0s 346us/step - loss: 1.0123 - acc: 0.4580\n",
      "Epoch 10/60\n",
      "500/500 [==============================] - 0s 632us/step - loss: 0.9985 - acc: 0.4880\n",
      "Epoch 11/60\n",
      "500/500 [==============================] - 0s 356us/step - loss: 0.9847 - acc: 0.4920\n",
      "Epoch 12/60\n",
      "500/500 [==============================] - 0s 558us/step - loss: 0.9569 - acc: 0.5300\n",
      "Epoch 13/60\n",
      "500/500 [==============================] - 0s 396us/step - loss: 0.9443 - acc: 0.5780\n",
      "Epoch 14/60\n",
      "500/500 [==============================] - 0s 340us/step - loss: 0.9326 - acc: 0.5940\n",
      "Epoch 15/60\n",
      "500/500 [==============================] - 0s 438us/step - loss: 0.9071 - acc: 0.6800\n",
      "Epoch 16/60\n",
      "500/500 [==============================] - 0s 300us/step - loss: 0.8805 - acc: 0.7040\n",
      "Epoch 17/60\n",
      "500/500 [==============================] - 0s 392us/step - loss: 0.8713 - acc: 0.7040\n",
      "Epoch 18/60\n",
      "500/500 [==============================] - 0s 494us/step - loss: 0.8566 - acc: 0.7100\n",
      "Epoch 19/60\n",
      "500/500 [==============================] - 0s 352us/step - loss: 0.8478 - acc: 0.7000\n",
      "Epoch 20/60\n",
      "500/500 [==============================] - 0s 380us/step - loss: 0.8324 - acc: 0.7200\n",
      "Epoch 21/60\n",
      "500/500 [==============================] - 0s 354us/step - loss: 0.8054 - acc: 0.7720\n",
      "Epoch 22/60\n",
      "500/500 [==============================] - 0s 394us/step - loss: 0.7954 - acc: 0.7600\n",
      "Epoch 23/60\n",
      "500/500 [==============================] - 0s 564us/step - loss: 0.7593 - acc: 0.7820\n",
      "Epoch 24/60\n",
      "500/500 [==============================] - 0s 288us/step - loss: 0.7683 - acc: 0.7540\n",
      "Epoch 25/60\n",
      "500/500 [==============================] - 0s 330us/step - loss: 0.7385 - acc: 0.7780\n",
      "Epoch 26/60\n",
      "500/500 [==============================] - 0s 456us/step - loss: 0.7198 - acc: 0.8000\n",
      "Epoch 27/60\n",
      "500/500 [==============================] - 0s 430us/step - loss: 0.6792 - acc: 0.8060\n",
      "Epoch 28/60\n",
      "500/500 [==============================] - 0s 452us/step - loss: 0.6595 - acc: 0.7680\n",
      "Epoch 29/60\n",
      "500/500 [==============================] - 0s 600us/step - loss: 0.6589 - acc: 0.8020\n",
      "Epoch 30/60\n",
      "500/500 [==============================] - 0s 562us/step - loss: 0.6432 - acc: 0.8060\n",
      "Epoch 31/60\n",
      "500/500 [==============================] - 0s 548us/step - loss: 0.6437 - acc: 0.8120\n",
      "Epoch 32/60\n",
      "500/500 [==============================] - 0s 500us/step - loss: 0.6250 - acc: 0.7960\n",
      "Epoch 33/60\n",
      "500/500 [==============================] - 0s 966us/step - loss: 0.6139 - acc: 0.8000\n",
      "Epoch 34/60\n",
      "500/500 [==============================] - 0s 616us/step - loss: 0.5999 - acc: 0.8040\n",
      "Epoch 35/60\n",
      "500/500 [==============================] - 0s 504us/step - loss: 0.5833 - acc: 0.8220\n",
      "Epoch 36/60\n",
      "500/500 [==============================] - 0s 674us/step - loss: 0.5850 - acc: 0.8160\n",
      "Epoch 37/60\n",
      "500/500 [==============================] - 0s 660us/step - loss: 0.5747 - acc: 0.8120\n",
      "Epoch 38/60\n",
      "500/500 [==============================] - 0s 496us/step - loss: 0.5463 - acc: 0.8240\n",
      "Epoch 39/60\n",
      "500/500 [==============================] - 0s 336us/step - loss: 0.5554 - acc: 0.8120\n",
      "Epoch 40/60\n",
      "500/500 [==============================] - 0s 712us/step - loss: 0.5535 - acc: 0.8180\n",
      "Epoch 41/60\n",
      "500/500 [==============================] - 0s 358us/step - loss: 0.5338 - acc: 0.8460\n",
      "Epoch 42/60\n",
      "500/500 [==============================] - 0s 376us/step - loss: 0.5210 - acc: 0.8440\n",
      "Epoch 43/60\n",
      "500/500 [==============================] - 0s 478us/step - loss: 0.5424 - acc: 0.8040\n",
      "Epoch 44/60\n",
      "500/500 [==============================] - 0s 694us/step - loss: 0.5230 - acc: 0.8320\n",
      "Epoch 45/60\n",
      "500/500 [==============================] - 0s 698us/step - loss: 0.4891 - acc: 0.8560\n",
      "Epoch 46/60\n",
      "500/500 [==============================] - 0s 378us/step - loss: 0.5243 - acc: 0.8180\n",
      "Epoch 47/60\n",
      "500/500 [==============================] - 0s 290us/step - loss: 0.4795 - acc: 0.8660\n",
      "Epoch 48/60\n",
      "500/500 [==============================] - 0s 352us/step - loss: 0.5361 - acc: 0.8220\n",
      "Epoch 49/60\n",
      "500/500 [==============================] - 0s 334us/step - loss: 0.4986 - acc: 0.8380\n",
      "Epoch 50/60\n",
      "500/500 [==============================] - 0s 606us/step - loss: 0.4851 - acc: 0.8540\n",
      "Epoch 51/60\n",
      "500/500 [==============================] - 0s 460us/step - loss: 0.4963 - acc: 0.8240\n",
      "Epoch 52/60\n",
      "500/500 [==============================] - 0s 646us/step - loss: 0.4913 - acc: 0.8360\n",
      "Epoch 53/60\n",
      "500/500 [==============================] - 0s 436us/step - loss: 0.4999 - acc: 0.8120\n",
      "Epoch 54/60\n",
      "500/500 [==============================] - 0s 370us/step - loss: 0.5104 - acc: 0.8100\n",
      "Epoch 55/60\n",
      "500/500 [==============================] - 0s 660us/step - loss: 0.4707 - acc: 0.8340\n",
      "Epoch 56/60\n",
      "500/500 [==============================] - 0s 718us/step - loss: 0.4773 - acc: 0.8300\n",
      "Epoch 57/60\n",
      "500/500 [==============================] - 0s 444us/step - loss: 0.4844 - acc: 0.8260 0s - loss: 0.4805 - acc: 0.834\n",
      "Epoch 58/60\n",
      "500/500 [==============================] - 0s 600us/step - loss: 0.5172 - acc: 0.8000\n",
      "Epoch 59/60\n",
      "500/500 [==============================] - 0s 830us/step - loss: 0.4740 - acc: 0.8380\n",
      "Epoch 60/60\n",
      "500/500 [==============================] - 1s 1ms/step - loss: 0.4725 - acc: 0.8300\n"
     ]
    },
    {
     "data": {
      "text/plain": [
       "<keras.callbacks.History at 0x2bcb6399a88>"
      ]
     },
     "execution_count": 97,
     "metadata": {},
     "output_type": "execute_result"
    }
   ],
   "source": [
    "sentiment_model = Sequential()\n",
    "sentiment_model.add(Embedding(input_dim=vocab_size, output_dim=embedding_dim, input_length=maxlen))\n",
    "sentiment_model.add(Flatten())\n",
    "sentiment_model.add(Dense(5, activation='relu'))\n",
    "sentiment_model.add(Dropout(0.4))\n",
    "sentiment_model.add(Dense(3, activation='sigmoid'))\n",
    "sentiment_model.compile(loss='categorical_crossentropy', optimizer='adam', metrics=['accuracy'])\n",
    "sentiment_model.summary()\n",
    "sentiment_model.fit(x_train_ktokenizer, sentiment_train_one_hot, epochs=60)"
   ]
  },
  {
   "cell_type": "code",
   "execution_count": 98,
   "metadata": {},
   "outputs": [
    {
     "data": {
      "text/plain": [
       "0.45325779036827196"
      ]
     },
     "execution_count": 98,
     "metadata": {},
     "output_type": "execute_result"
    }
   ],
   "source": [
    "sentiment_pred = sentiment_model.predict(x_test_ktokenizer)\n",
    "acc = sum([np.argmax(sentiment_test_one_hot[i])==np.argmax(sentiment_pred[i]) for i in range(test_num)])/test_num\n",
    "acc"
   ]
  },
  {
   "cell_type": "code",
   "execution_count": null,
   "metadata": {},
   "outputs": [],
   "source": []
  }
 ],
 "metadata": {
  "kernelspec": {
   "display_name": "Python 3",
   "language": "python",
   "name": "python3"
  },
  "language_info": {
   "codemirror_mode": {
    "name": "ipython",
    "version": 3
   },
   "file_extension": ".py",
   "mimetype": "text/x-python",
   "name": "python",
   "nbconvert_exporter": "python",
   "pygments_lexer": "ipython3",
   "version": "3.7.4"
  }
 },
 "nbformat": 4,
 "nbformat_minor": 2
}
