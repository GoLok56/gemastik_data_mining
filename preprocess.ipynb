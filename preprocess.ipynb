{
 "cells": [
  {
   "cell_type": "code",
   "execution_count": 29,
   "metadata": {},
   "outputs": [],
   "source": [
    "from preprocess import Preprocess\n",
    "from stemmer import Stemmer\n",
    "from tokenizer import Tokenizer\n",
    "\n",
    "from sklearn.preprocessing import OneHotEncoder, LabelEncoder\n",
    "\n",
    "from keras.models import Sequential\n",
    "from keras.layers import Dense,  Flatten, Embedding, Dropout, SimpleRNN, LSTM, SpatialDropout1D\n",
    "from keras.preprocessing.text import Tokenizer as KTokenizer\n",
    "from keras.preprocessing.sequence import pad_sequences\n",
    "\n",
    "import pandas as pd\n",
    "import numpy as np"
   ]
  },
  {
   "cell_type": "code",
   "execution_count": 30,
   "metadata": {},
   "outputs": [],
   "source": [
    "DATASET_FILE = 'dataset.xlsx'\n",
    "STOPWORDS = 'stopwords.txt'\n",
    "SLANG_WORDS = 'slang_words.txt'"
   ]
  },
  {
   "cell_type": "code",
   "execution_count": 31,
   "metadata": {},
   "outputs": [
    {
     "data": {
      "text/html": [
       "<div>\n",
       "<style scoped>\n",
       "    .dataframe tbody tr th:only-of-type {\n",
       "        vertical-align: middle;\n",
       "    }\n",
       "\n",
       "    .dataframe tbody tr th {\n",
       "        vertical-align: top;\n",
       "    }\n",
       "\n",
       "    .dataframe thead th {\n",
       "        text-align: right;\n",
       "    }\n",
       "</style>\n",
       "<table border=\"1\" class=\"dataframe\">\n",
       "  <thead>\n",
       "    <tr style=\"text-align: right;\">\n",
       "      <th></th>\n",
       "      <th>Unnamed: 0.1</th>\n",
       "      <th>klasifikasi</th>\n",
       "      <th>sentiment</th>\n",
       "      <th>text</th>\n",
       "      <th>tokens</th>\n",
       "    </tr>\n",
       "  </thead>\n",
       "  <tbody>\n",
       "    <tr>\n",
       "      <th>0</th>\n",
       "      <td>0</td>\n",
       "      <td>Bukan Sara</td>\n",
       "      <td>Negatif</td>\n",
       "      <td>rt pei hutan luas aceh dape</td>\n",
       "      <td>['rt', 'pei', 'hutan', 'luas', 'aceh', 'dape']</td>\n",
       "    </tr>\n",
       "    <tr>\n",
       "      <th>1</th>\n",
       "      <td>1</td>\n",
       "      <td>Bukan Sara</td>\n",
       "      <td>Netral</td>\n",
       "      <td>timeline penuh retweet trending topic kena sua...</td>\n",
       "      <td>['timeline', 'penuh', 'retweet', 'trending', '...</td>\n",
       "    </tr>\n",
       "    <tr>\n",
       "      <th>2</th>\n",
       "      <td>2</td>\n",
       "      <td>Bukan Sara</td>\n",
       "      <td>Negatif</td>\n",
       "      <td>rt hao bangun buta sby makmur lupa jokowi seng...</td>\n",
       "      <td>['rt', 'hao', 'bangun', 'buta', 'sby', 'makmur...</td>\n",
       "    </tr>\n",
       "    <tr>\n",
       "      <th>3</th>\n",
       "      <td>3</td>\n",
       "      <td>Bukan Sara</td>\n",
       "      <td>Netral</td>\n",
       "      <td>rt gubernur jabar ridwan kamil istri jeda laga...</td>\n",
       "      <td>['rt', 'gubernur', 'jabar', 'ridwan', 'kamil',...</td>\n",
       "    </tr>\n",
       "    <tr>\n",
       "      <th>4</th>\n",
       "      <td>4</td>\n",
       "      <td>Bukan Sara</td>\n",
       "      <td>Negatif</td>\n",
       "      <td>rt kecewa prabowo nyata baik serang serang pra...</td>\n",
       "      <td>['rt', 'kecewa', 'prabowo', 'nyata', 'baik', '...</td>\n",
       "    </tr>\n",
       "  </tbody>\n",
       "</table>\n",
       "</div>"
      ],
      "text/plain": [
       "   Unnamed: 0.1 klasifikasi sentiment  \\\n",
       "0             0  Bukan Sara   Negatif   \n",
       "1             1  Bukan Sara    Netral   \n",
       "2             2  Bukan Sara   Negatif   \n",
       "3             3  Bukan Sara    Netral   \n",
       "4             4  Bukan Sara   Negatif   \n",
       "\n",
       "                                                text  \\\n",
       "0                        rt pei hutan luas aceh dape   \n",
       "1  timeline penuh retweet trending topic kena sua...   \n",
       "2  rt hao bangun buta sby makmur lupa jokowi seng...   \n",
       "3  rt gubernur jabar ridwan kamil istri jeda laga...   \n",
       "4  rt kecewa prabowo nyata baik serang serang pra...   \n",
       "\n",
       "                                              tokens  \n",
       "0     ['rt', 'pei', 'hutan', 'luas', 'aceh', 'dape']  \n",
       "1  ['timeline', 'penuh', 'retweet', 'trending', '...  \n",
       "2  ['rt', 'hao', 'bangun', 'buta', 'sby', 'makmur...  \n",
       "3  ['rt', 'gubernur', 'jabar', 'ridwan', 'kamil',...  \n",
       "4  ['rt', 'kecewa', 'prabowo', 'nyata', 'baik', '...  "
      ]
     },
     "execution_count": 31,
     "metadata": {},
     "output_type": "execute_result"
    }
   ],
   "source": [
    "training_df = pd.read_excel(DATASET_FILE)\n",
    "training_df = training_df.drop(['Unnamed: 0'], axis=1)\n",
    "training_df.head()"
   ]
  },
  {
   "cell_type": "code",
   "execution_count": 32,
   "metadata": {},
   "outputs": [
    {
     "data": {
      "text/html": [
       "<div>\n",
       "<style scoped>\n",
       "    .dataframe tbody tr th:only-of-type {\n",
       "        vertical-align: middle;\n",
       "    }\n",
       "\n",
       "    .dataframe tbody tr th {\n",
       "        vertical-align: top;\n",
       "    }\n",
       "\n",
       "    .dataframe thead th {\n",
       "        text-align: right;\n",
       "    }\n",
       "</style>\n",
       "<table border=\"1\" class=\"dataframe\">\n",
       "  <thead>\n",
       "    <tr style=\"text-align: right;\">\n",
       "      <th></th>\n",
       "      <th>Unnamed: 0.1</th>\n",
       "    </tr>\n",
       "  </thead>\n",
       "  <tbody>\n",
       "    <tr>\n",
       "      <th>count</th>\n",
       "      <td>853.000000</td>\n",
       "    </tr>\n",
       "    <tr>\n",
       "      <th>mean</th>\n",
       "      <td>444.606096</td>\n",
       "    </tr>\n",
       "    <tr>\n",
       "      <th>std</th>\n",
       "      <td>259.932624</td>\n",
       "    </tr>\n",
       "    <tr>\n",
       "      <th>min</th>\n",
       "      <td>0.000000</td>\n",
       "    </tr>\n",
       "    <tr>\n",
       "      <th>25%</th>\n",
       "      <td>217.000000</td>\n",
       "    </tr>\n",
       "    <tr>\n",
       "      <th>50%</th>\n",
       "      <td>441.000000</td>\n",
       "    </tr>\n",
       "    <tr>\n",
       "      <th>75%</th>\n",
       "      <td>670.000000</td>\n",
       "    </tr>\n",
       "    <tr>\n",
       "      <th>max</th>\n",
       "      <td>895.000000</td>\n",
       "    </tr>\n",
       "  </tbody>\n",
       "</table>\n",
       "</div>"
      ],
      "text/plain": [
       "       Unnamed: 0.1\n",
       "count    853.000000\n",
       "mean     444.606096\n",
       "std      259.932624\n",
       "min        0.000000\n",
       "25%      217.000000\n",
       "50%      441.000000\n",
       "75%      670.000000\n",
       "max      895.000000"
      ]
     },
     "execution_count": 32,
     "metadata": {},
     "output_type": "execute_result"
    }
   ],
   "source": [
    "training_df.describe()"
   ]
  },
  {
   "cell_type": "code",
   "execution_count": 33,
   "metadata": {},
   "outputs": [
    {
     "data": {
      "text/plain": [
       "Bukan Sara    668\n",
       "Sara          185\n",
       "Name: klasifikasi, dtype: int64"
      ]
     },
     "execution_count": 33,
     "metadata": {},
     "output_type": "execute_result"
    },
    {
     "data": {
      "image/png": "[encoded data removed]",
      "text/plain": [
       "<Figure size 432x288 with 1 Axes>"
      ]
     },
     "metadata": {
      "needs_background": "light"
     },
     "output_type": "display_data"
    }
   ],
   "source": [
    "training_df['klasifikasi'].value_counts().plot(kind='barh')\n",
    "training_df['klasifikasi'].value_counts()"
   ]
  },
  {
   "cell_type": "code",
   "execution_count": 34,
   "metadata": {},
   "outputs": [
    {
     "data": {
      "text/plain": [
       "Negatif    352\n",
       "Netral     302\n",
       "Positif    199\n",
       "Name: sentiment, dtype: int64"
      ]
     },
     "execution_count": 34,
     "metadata": {},
     "output_type": "execute_result"
    },
    {
     "data": {
      "image/png": "[encoded data removed]",
      "text/plain": [
       "<Figure size 432x288 with 1 Axes>"
      ]
     },
     "metadata": {
      "needs_background": "light"
     },
     "output_type": "display_data"
    }
   ],
   "source": [
    "training_df['sentiment'].value_counts().plot(kind='barh')\n",
    "training_df['sentiment'].value_counts()"
   ]
  },
  {
   "cell_type": "code",
   "execution_count": 35,
   "metadata": {},
   "outputs": [
    {
     "data": {
      "text/plain": [
       "Negatif    117\n",
       "Netral      68\n",
       "Positif     65\n",
       "Name: sentiment, dtype: int64"
      ]
     },
     "execution_count": 35,
     "metadata": {},
     "output_type": "execute_result"
    },
    {
     "data": {
      "image/png": "[encoded data removed]",
      "text/plain": [
       "<Figure size 432x288 with 1 Axes>"
      ]
     },
     "metadata": {
      "needs_background": "light"
     },
     "output_type": "display_data"
    }
   ],
   "source": [
    "sara = training_df[training_df['klasifikasi'] == 'Sara']\n",
    "bukan_sara = training_df[training_df['klasifikasi'] == 'Bukan Sara']\n",
    "\n",
    "sara_train = sara[:100]\n",
    "sara_test = sara[100:]\n",
    "\n",
    "bukan_sara_train = bukan_sara[:150]\n",
    "bukan_sara_test = bukan_sara[150:]\n",
    "\n",
    "train = pd.concat([sara_train, bukan_sara_train], axis=0)\n",
    "test = pd.concat([sara_test, bukan_sara_test], axis=0)\n",
    "\n",
    "x_train = train['text'].tolist()\n",
    "klasifikasi_train = train['klasifikasi'].tolist()\n",
    "sentiment_train = train['sentiment'].tolist()\n",
    "\n",
    "x_test = test['text'].tolist()\n",
    "klasifikasi_test = test['klasifikasi'].tolist()\n",
    "sentiment_test = test['sentiment'].tolist()\n",
    "\n",
    "train['sentiment'].value_counts().plot(kind='barh')\n",
    "train['sentiment'].value_counts()"
   ]
  },
  {
   "cell_type": "code",
   "execution_count": 36,
   "metadata": {},
   "outputs": [
    {
     "name": "stdout",
     "output_type": "stream",
     "text": [
      "603\n",
      "947\n"
     ]
    },
    {
     "name": "stderr",
     "output_type": "stream",
     "text": [
      "C:\\Users\\GoLok\\Anaconda3\\envs\\kp\\lib\\site-packages\\sklearn\\preprocessing\\_encoders.py:415: FutureWarning: The handling of integer data will change in version 0.22. Currently, the categories are determined based on the range [0, max(values)], while in the future they will be determined based on the unique values.\n",
      "If you want the future behaviour and silence this warning, you can specify \"categories='auto'\".\n",
      "In case you used a LabelEncoder before this OneHotEncoder to convert the categories to integers, then you can now use the OneHotEncoder directly.\n",
      "  warnings.warn(msg, FutureWarning)\n",
      "C:\\Users\\GoLok\\Anaconda3\\envs\\kp\\lib\\site-packages\\sklearn\\preprocessing\\_encoders.py:415: FutureWarning: The handling of integer data will change in version 0.22. Currently, the categories are determined based on the range [0, max(values)], while in the future they will be determined based on the unique values.\n",
      "If you want the future behaviour and silence this warning, you can specify \"categories='auto'\".\n",
      "In case you used a LabelEncoder before this OneHotEncoder to convert the categories to integers, then you can now use the OneHotEncoder directly.\n",
      "  warnings.warn(msg, FutureWarning)\n"
     ]
    }
   ],
   "source": [
    "ktokenizer = KTokenizer()\n",
    "ktokenizer.fit_on_texts(x_train)\n",
    "x_train_tokenizer = ktokenizer.texts_to_sequences(x_train)\n",
    "x_test_tokenizer = ktokenizer.texts_to_sequences(x_test)\n",
    "\n",
    "vocab_size = len(ktokenizer.word_index) + 1\n",
    "maxlen = 16\n",
    "embedding_dim = 10\n",
    "\n",
    "klasifikasi_label_encoder = LabelEncoder()\n",
    "klasifikasi_label_encoded = klasifikasi_label_encoder.fit_transform(klasifikasi_train)\n",
    "klasifikasi_label_encoded = klasifikasi_label_encoded.reshape(len(klasifikasi_label_encoded), 1)\n",
    "klasifikasi_test_label_encoded = klasifikasi_label_encoder.transform(klasifikasi_test)\n",
    "klasifikasi_test_label_encoded = klasifikasi_test_label_encoded.reshape(len(klasifikasi_test_label_encoded), 1)\n",
    "\n",
    "klasifikasi_one_hot_encoder = OneHotEncoder()\n",
    "klasifikasi_train_one_hot = klasifikasi_one_hot_encoder.fit_transform(klasifikasi_label_encoded)\n",
    "klasifikasi_test_one_hot = klasifikasi_one_hot_encoder.transform(klasifikasi_test_label_encoded)\n",
    "\n",
    "sentiment_label_encoder = LabelEncoder()\n",
    "sentiment_label_encoded = sentiment_label_encoder.fit_transform(sentiment_train)\n",
    "sentiment_label_encoded = sentiment_label_encoded.reshape(len(sentiment_label_encoded), 1)\n",
    "sentiment_test_label_encoded = sentiment_label_encoder.transform(sentiment_test)\n",
    "sentiment_test_label_encoded = sentiment_test_label_encoded.reshape(len(sentiment_test_label_encoded), 1)\n",
    "\n",
    "sentiment_one_hot_encoder = OneHotEncoder()\n",
    "sentiment_train_one_hot = sentiment_one_hot_encoder.fit_transform(sentiment_label_encoded)\n",
    "sentiment_test_one_hot = sentiment_one_hot_encoder.transform(sentiment_test_label_encoded)\n",
    "\n",
    "x_train_ktokenizer = pad_sequences(x_train_tokenizer, padding='post', maxlen=maxlen)\n",
    "x_test_ktokenizer = pad_sequences(x_test_tokenizer, padding='post', maxlen=maxlen)\n",
    "test_num = len(x_test)\n",
    "\n",
    "print(test_num)\n",
    "print(len(ktokenizer.word_index))"
   ]
  },
  {
   "cell_type": "code",
   "execution_count": 37,
   "metadata": {},
   "outputs": [
    {
     "name": "stdout",
     "output_type": "stream",
     "text": [
      "_________________________________________________________________\n",
      "Layer (type)                 Output Shape              Param #   \n",
      "=================================================================\n",
      "embedding_5 (Embedding)      (None, 16, 10)            9480      \n",
      "_________________________________________________________________\n",
      "simple_rnn_3 (SimpleRNN)     (None, 16)                432       \n",
      "_________________________________________________________________\n",
      "dense_5 (Dense)              (None, 2)                 34        \n",
      "=================================================================\n",
      "Total params: 9,946\n",
      "Trainable params: 9,946\n",
      "Non-trainable params: 0\n",
      "_________________________________________________________________\n",
      "Epoch 1/50\n",
      "250/250 [==============================] - 1s 5ms/step - loss: 0.7157 - acc: 0.4760\n",
      "Epoch 2/50\n",
      "250/250 [==============================] - 0s 313us/step - loss: 0.6413 - acc: 0.7160\n",
      "Epoch 3/50\n",
      "250/250 [==============================] - 0s 938us/step - loss: 0.5821 - acc: 0.7520\n",
      "Epoch 4/50\n",
      "250/250 [==============================] - 0s 438us/step - loss: 0.4929 - acc: 0.7880\n",
      "Epoch 5/50\n",
      "250/250 [==============================] - 0s 563us/step - loss: 0.3623 - acc: 0.8760\n",
      "Epoch 6/50\n",
      "250/250 [==============================] - 0s 438us/step - loss: 0.2426 - acc: 0.9040\n",
      "Epoch 7/50\n",
      "250/250 [==============================] - 0s 438us/step - loss: 0.1677 - acc: 0.9400\n",
      "Epoch 8/50\n",
      "250/250 [==============================] - 0s 375us/step - loss: 0.1295 - acc: 0.9400\n",
      "Epoch 9/50\n",
      "250/250 [==============================] - 0s 438us/step - loss: 0.1109 - acc: 0.9440\n",
      "Epoch 10/50\n",
      "250/250 [==============================] - 0s 438us/step - loss: 0.1141 - acc: 0.9560\n",
      "Epoch 11/50\n",
      "250/250 [==============================] - 0s 438us/step - loss: 0.0920 - acc: 0.9520\n",
      "Epoch 12/50\n",
      "250/250 [==============================] - 0s 1ms/step - loss: 0.0997 - acc: 0.9480\n",
      "Epoch 13/50\n",
      "250/250 [==============================] - 0s 459us/step - loss: 0.0872 - acc: 0.9520\n",
      "Epoch 14/50\n",
      "250/250 [==============================] - 0s 438us/step - loss: 0.0845 - acc: 0.9520\n",
      "Epoch 15/50\n",
      "250/250 [==============================] - 0s 438us/step - loss: 0.0821 - acc: 0.9480\n",
      "Epoch 16/50\n",
      "250/250 [==============================] - 0s 438us/step - loss: 0.0843 - acc: 0.9600\n",
      "Epoch 17/50\n",
      "250/250 [==============================] - 0s 438us/step - loss: 0.0828 - acc: 0.9520\n",
      "Epoch 18/50\n",
      "250/250 [==============================] - 0s 438us/step - loss: 0.0814 - acc: 0.9520\n",
      "Epoch 19/50\n",
      "250/250 [==============================] - 0s 438us/step - loss: 0.0781 - acc: 0.9600\n",
      "Epoch 20/50\n",
      "250/250 [==============================] - 0s 375us/step - loss: 0.0744 - acc: 0.9520\n",
      "Epoch 21/50\n",
      "250/250 [==============================] - 0s 920us/step - loss: 0.0783 - acc: 0.9520\n",
      "Epoch 22/50\n",
      "250/250 [==============================] - 0s 438us/step - loss: 0.0818 - acc: 0.9640\n",
      "Epoch 23/50\n",
      "250/250 [==============================] - 0s 438us/step - loss: 0.0871 - acc: 0.9480\n",
      "Epoch 24/50\n",
      "250/250 [==============================] - 0s 438us/step - loss: 0.0818 - acc: 0.9480\n",
      "Epoch 25/50\n",
      "250/250 [==============================] - 0s 438us/step - loss: 0.0759 - acc: 0.9600\n",
      "Epoch 26/50\n",
      "250/250 [==============================] - 1s 3ms/step - loss: 0.0754 - acc: 0.9600\n",
      "Epoch 27/50\n",
      "250/250 [==============================] - 1s 3ms/step - loss: 0.0731 - acc: 0.9600\n",
      "Epoch 28/50\n",
      "250/250 [==============================] - 0s 644us/step - loss: 0.0679 - acc: 0.9600\n",
      "Epoch 29/50\n",
      "250/250 [==============================] - 1s 4ms/step - loss: 0.0738 - acc: 0.9640\n",
      "Epoch 30/50\n",
      "250/250 [==============================] - 0s 683us/step - loss: 0.0713 - acc: 0.9520\n",
      "Epoch 31/50\n",
      "250/250 [==============================] - 0s 438us/step - loss: 0.0712 - acc: 0.9520\n",
      "Epoch 32/50\n",
      "250/250 [==============================] - 0s 938us/step - loss: 0.0730 - acc: 0.9600\n",
      "Epoch 33/50\n",
      "250/250 [==============================] - 0s 438us/step - loss: 0.0689 - acc: 0.9640\n",
      "Epoch 34/50\n",
      "250/250 [==============================] - 0s 455us/step - loss: 0.0734 - acc: 0.9640\n",
      "Epoch 35/50\n",
      "250/250 [==============================] - 0s 567us/step - loss: 0.0678 - acc: 0.9520\n",
      "Epoch 36/50\n",
      "250/250 [==============================] - 0s 894us/step - loss: 0.0685 - acc: 0.9560\n",
      "Epoch 37/50\n",
      "250/250 [==============================] - 0s 438us/step - loss: 0.0681 - acc: 0.9600\n",
      "Epoch 38/50\n",
      "250/250 [==============================] - 0s 438us/step - loss: 0.0684 - acc: 0.9520\n",
      "Epoch 39/50\n",
      "250/250 [==============================] - 0s 875us/step - loss: 0.0653 - acc: 0.9520\n",
      "Epoch 40/50\n",
      "250/250 [==============================] - 0s 500us/step - loss: 0.0715 - acc: 0.9520\n",
      "Epoch 41/50\n",
      "250/250 [==============================] - 0s 625us/step - loss: 0.0709 - acc: 0.9520\n",
      "Epoch 42/50\n",
      "250/250 [==============================] - 0s 672us/step - loss: 0.0643 - acc: 0.9600\n",
      "Epoch 43/50\n",
      "250/250 [==============================] - 0s 688us/step - loss: 0.0681 - acc: 0.9640\n",
      "Epoch 44/50\n",
      "250/250 [==============================] - 0s 438us/step - loss: 0.0651 - acc: 0.9600\n",
      "Epoch 45/50\n",
      "250/250 [==============================] - 0s 438us/step - loss: 0.0712 - acc: 0.9440\n",
      "Epoch 46/50\n",
      "250/250 [==============================] - 0s 375us/step - loss: 0.0663 - acc: 0.9560\n",
      "Epoch 47/50\n",
      "250/250 [==============================] - 0s 938us/step - loss: 0.0668 - acc: 0.9560\n",
      "Epoch 48/50\n",
      "250/250 [==============================] - 0s 429us/step - loss: 0.0695 - acc: 0.9600\n",
      "Epoch 49/50\n",
      "250/250 [==============================] - 0s 563us/step - loss: 0.0761 - acc: 0.9520\n",
      "Epoch 50/50\n",
      "250/250 [==============================] - 0s 438us/step - loss: 0.0656 - acc: 0.9600\n"
     ]
    },
    {
     "data": {
      "text/plain": [
       "<keras.callbacks.History at 0x16adf657448>"
      ]
     },
     "execution_count": 37,
     "metadata": {},
     "output_type": "execute_result"
    }
   ],
   "source": [
    "klasifikasi_model = Sequential()\n",
    "klasifikasi_model.add(Embedding(input_dim=vocab_size, output_dim=embedding_dim, input_length=maxlen))\n",
    "klasifikasi_model.add(SimpleRNN(16))\n",
    "# klasifikasi_model.add(Flatten())\n",
    "# klasifikasi_model.add(Dense(5, activation='relu'))\n",
    "# klasifikasi_model.add(Dropout(0.4))\n",
    "klasifikasi_model.add(Dense(2, activation='softmax'))\n",
    "klasifikasi_model.compile(loss='categorical_crossentropy', optimizer='adam', metrics=['accuracy'])\n",
    "klasifikasi_model.summary()\n",
    "klasifikasi_model.fit(x_train_ktokenizer, klasifikasi_train_one_hot, epochs=50)"
   ]
  },
  {
   "cell_type": "code",
   "execution_count": 38,
   "metadata": {},
   "outputs": [
    {
     "data": {
      "text/plain": [
       "0.6567164179104478"
      ]
     },
     "execution_count": 38,
     "metadata": {},
     "output_type": "execute_result"
    }
   ],
   "source": [
    "klasifikasi_pred = klasifikasi_model.predict(x_test_ktokenizer)\n",
    "acc = sum([np.argmax(klasifikasi_test_one_hot[i])==np.argmax(klasifikasi_pred[i]) for i in range(test_num)])/test_num\n",
    "acc"
   ]
  },
  {
   "cell_type": "code",
   "execution_count": 39,
   "metadata": {},
   "outputs": [
    {
     "name": "stdout",
     "output_type": "stream",
     "text": [
      "603/603 [==============================] - 0s 769us/step\n"
     ]
    },
    {
     "data": {
      "text/plain": [
       "[1.1428961683663958, 0.6567164168231325]"
      ]
     },
     "execution_count": 39,
     "metadata": {},
     "output_type": "execute_result"
    }
   ],
   "source": [
    "klasifikasi_model.evaluate(x_test_ktokenizer, klasifikasi_test_one_hot)"
   ]
  },
  {
   "cell_type": "code",
   "execution_count": 40,
   "metadata": {},
   "outputs": [
    {
     "name": "stdout",
     "output_type": "stream",
     "text": [
      "_________________________________________________________________\n",
      "Layer (type)                 Output Shape              Param #   \n",
      "=================================================================\n",
      "embedding_6 (Embedding)      (None, 16, 10)            9480      \n",
      "_________________________________________________________________\n",
      "spatial_dropout1d_3 (Spatial (None, 16, 10)            0         \n",
      "_________________________________________________________________\n",
      "lstm_3 (LSTM)                (None, 100)               44400     \n",
      "_________________________________________________________________\n",
      "dense_6 (Dense)              (None, 3)                 303       \n",
      "=================================================================\n",
      "Total params: 54,183\n",
      "Trainable params: 54,183\n",
      "Non-trainable params: 0\n",
      "_________________________________________________________________\n",
      "Epoch 1/10\n",
      "250/250 [==============================] - 11s 42ms/step - loss: 1.0769 - acc: 0.4640\n",
      "Epoch 2/10\n",
      "250/250 [==============================] - 6s 23ms/step - loss: 1.0664 - acc: 0.4680\n",
      "Epoch 3/10\n",
      "250/250 [==============================] - 6s 23ms/step - loss: 0.9994 - acc: 0.5120\n",
      "Epoch 4/10\n",
      "250/250 [==============================] - 8s 33ms/step - loss: 0.7855 - acc: 0.6440\n",
      "Epoch 5/10\n",
      "250/250 [==============================] - 7s 30ms/step - loss: 0.6257 - acc: 0.6920\n",
      "Epoch 6/10\n",
      "250/250 [==============================] - 9s 35ms/step - loss: 0.5924 - acc: 0.6960\n",
      "Epoch 7/10\n",
      "250/250 [==============================] - 6s 23ms/step - loss: 0.5251 - acc: 0.7360\n",
      "Epoch 8/10\n",
      "250/250 [==============================] - 8s 33ms/step - loss: 0.4959 - acc: 0.7520\n",
      "Epoch 9/10\n",
      "250/250 [==============================] - 7s 26ms/step - loss: 0.4727 - acc: 0.8160\n",
      "Epoch 10/10\n",
      "250/250 [==============================] - 8s 34ms/step - loss: 0.4532 - acc: 0.8240\n"
     ]
    },
    {
     "data": {
      "text/plain": [
       "<keras.callbacks.History at 0x16ae2193188>"
      ]
     },
     "execution_count": 40,
     "metadata": {},
     "output_type": "execute_result"
    }
   ],
   "source": [
    "sentiment_model = Sequential()\n",
    "sentiment_model.add(Embedding(input_dim=vocab_size, output_dim=embedding_dim, input_length=maxlen))\n",
    "sentiment_model.add(SpatialDropout1D(0.2))\n",
    "sentiment_model.add(LSTM(100, dropout=0.2, recurrent_dropout=0.2))\n",
    "# sentiment_model.add(Flatten())\n",
    "sentiment_model.add(Dense(3, activation='softmax'))\n",
    "sentiment_model.compile(loss='categorical_crossentropy', optimizer='adam', metrics=['accuracy'])\n",
    "sentiment_model.summary()\n",
    "sentiment_model.fit(x_train_ktokenizer, sentiment_train_one_hot, epochs=10, batch_size=2)"
   ]
  },
  {
   "cell_type": "code",
   "execution_count": 41,
   "metadata": {},
   "outputs": [
    {
     "data": {
      "text/plain": [
       "0.4577114427860697"
      ]
     },
     "execution_count": 41,
     "metadata": {},
     "output_type": "execute_result"
    }
   ],
   "source": [
    "sentiment_pred = sentiment_model.predict(x_test_ktokenizer)\n",
    "acc = sum([np.argmax(sentiment_test_one_hot[i])==np.argmax(sentiment_pred[i]) for i in range(test_num)])/test_num\n",
    "acc"
   ]
  },
  {
   "cell_type": "code",
   "execution_count": 42,
   "metadata": {},
   "outputs": [
    {
     "name": "stdout",
     "output_type": "stream",
     "text": [
      "603/603 [==============================] - 1s 2ms/step\n"
     ]
    },
    {
     "data": {
      "text/plain": [
       "[1.5219129756908512, 0.4577114432308804]"
      ]
     },
     "execution_count": 42,
     "metadata": {},
     "output_type": "execute_result"
    }
   ],
   "source": [
    "sentiment_model.evaluate(x_test_ktokenizer, sentiment_test_one_hot)"
   ]
  },
  {
   "cell_type": "code",
   "execution_count": null,
   "metadata": {},
   "outputs": [],
   "source": []
  }
 ],
 "metadata": {
  "kernelspec": {
   "display_name": "Python 3",
   "language": "python",
   "name": "python3"
  },
  "language_info": {
   "codemirror_mode": {
    "name": "ipython",
    "version": 3
   },
   "file_extension": ".py",
   "mimetype": "text/x-python",
   "name": "python",
   "nbconvert_exporter": "python",
   "pygments_lexer": "ipython3",
   "version": "3.7.4"
  }
 },
 "nbformat": 4,
 "nbformat_minor": 2
}
